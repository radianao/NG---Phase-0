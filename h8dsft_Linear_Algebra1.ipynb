{
 "cells": [
  {
   "cell_type": "markdown",
   "metadata": {},
   "source": [
    "## Non Graded Challenge 4"
   ]
  },
  {
   "cell_type": "markdown",
   "metadata": {},
   "source": [
    "1. Membuat vektor"
   ]
  },
  {
   "cell_type": "code",
   "execution_count": 17,
   "metadata": {},
   "outputs": [],
   "source": [
    "#including lib needed\n",
    "import numpy as np\n",
    "import matplotlib.pyplot as plt"
   ]
  },
  {
   "cell_type": "code",
   "execution_count": 42,
   "metadata": {},
   "outputs": [
    {
     "name": "stdout",
     "output_type": "stream",
     "text": [
      "[[17 22 19]]\n"
     ]
    }
   ],
   "source": [
    "a = np.array([[17,22,19]])\n",
    "print(a)\n",
    "\n"
   ]
  },
  {
   "cell_type": "markdown",
   "metadata": {},
   "source": [
    "2. Operasi matematis pada 3 buah vektor\n"
   ]
  },
  {
   "cell_type": "code",
   "execution_count": 43,
   "metadata": {},
   "outputs": [
    {
     "name": "stdout",
     "output_type": "stream",
     "text": [
      "Hasil a + b adalah [[27 42 30]]\n",
      "\n",
      "Hasil b - c adalah [5 8 2]\n",
      "\n",
      "Hasil a dot b adalah [819]\n",
      "\n",
      "Hasil a * b adalah [[170 440 209]]\n",
      "\n",
      "Hasil norm a dengan L1 adalah 22.0 dan dengan L2 adalah 33.67491648096547\n",
      "\n",
      "sudut antara vektor a dan b adalah [12.58890066] derajat\n"
     ]
    }
   ],
   "source": [
    "b = np.array([10,20,11])\n",
    "c = np.array([5,12,9])\n",
    "\n",
    "print('Hasil a + b adalah', a+b)\n",
    "print('\\nHasil b - c adalah', b-c)\n",
    "print('\\nHasil a dot b adalah', a@b)\n",
    "print('\\nHasil a * b adalah', a*b)\n",
    "print('\\nHasil norm a dengan L1 adalah', np.linalg.norm(a,1), 'dan dengan L2 adalah',np.linalg.norm(a,2))\n",
    "\n",
    "cos_sudut = (a@b) / (np.linalg.norm(a) * np.linalg.norm(b))\n",
    "sudut = np.degrees(np.arccos(cos_sudut))\n",
    "print('\\nsudut antara vektor a dan b adalah',sudut,'derajat')"
   ]
  },
  {
   "cell_type": "markdown",
   "metadata": {},
   "source": [
    "3. Membuat plot vektor ke dalam bidang 2D"
   ]
  },
  {
   "cell_type": "code",
   "execution_count": 45,
   "metadata": {},
   "outputs": [
    {
     "data": {
      "text/plain": [
       "<function matplotlib.pyplot.show(close=None, block=None)>"
      ]
     },
     "execution_count": 45,
     "metadata": {},
     "output_type": "execute_result"
    },
    {
     "data": {
      "image/png": "[encoded data removed]",
      "text/plain": [
       "<Figure size 640x480 with 1 Axes>"
      ]
     },
     "metadata": {},
     "output_type": "display_data"
    }
   ],
   "source": [
    "u = np.array([2,5])\n",
    "v = np.array([3,1])\n",
    "\n",
    "#difine origin point for both vectors\n",
    "origin = np.array([[0,0], [0,0]])\n",
    "\n",
    "#plotting\n",
    "plt.quiver(*origin, u, v, color=['r', 'b'], scale=25)\n",
    "plt.show"
   ]
  },
  {
   "cell_type": "markdown",
   "metadata": {},
   "source": [
    "red line represent vector u\n",
    "blue line represent vector v"
   ]
  }
 ],
 "metadata": {
  "kernelspec": {
   "display_name": "Python 3.11.0 64-bit",
   "language": "python",
   "name": "python3"
  },
  "language_info": {
   "codemirror_mode": {
    "name": "ipython",
    "version": 3
   },
   "file_extension": ".py",
   "mimetype": "text/x-python",
   "name": "python",
   "nbconvert_exporter": "python",
   "pygments_lexer": "ipython3",
   "version": "3.11.0"
  },
  "orig_nbformat": 4,
  "vscode": {
   "interpreter": {
    "hash": "318f2c383d48220c821fefd227250c35bb828f95042f5889a5ad1704b1baf79c"
   }
  }
 },
 "nbformat": 4,
 "nbformat_minor": 2
}
