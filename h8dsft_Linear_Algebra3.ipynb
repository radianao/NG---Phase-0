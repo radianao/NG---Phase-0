{
 "cells": [
  {
   "cell_type": "markdown",
   "metadata": {},
   "source": [
    "## Non Graded Challenge 6"
   ]
  },
  {
   "cell_type": "code",
   "execution_count": 1,
   "metadata": {},
   "outputs": [],
   "source": [
    "#calling necessary library\n",
    "import numpy as np"
   ]
  },
  {
   "cell_type": "markdown",
   "metadata": {},
   "source": [
    "Apakah vektor (1, 3) adalah eigenvector dari [[1, -1], [6, 4]], jika iya berapakah eigenvalue-nya?"
   ]
  },
  {
   "cell_type": "markdown",
   "metadata": {},
   "source": [
    "dapat dikatakan eigen value jika:\n",
    "A - (eigenvalue * I) = 0, maka"
   ]
  },
  {
   "cell_type": "code",
   "execution_count": 3,
   "metadata": {},
   "outputs": [
    {
     "name": "stdout",
     "output_type": "stream",
     "text": [
      "eigen value:\n",
      " [2.5+1.93649167j 2.5-1.93649167j]\n",
      "\n",
      "eigen vector:\n",
      " [[-0.23145502+0.29880715j -0.23145502-0.29880715j]\n",
      " [ 0.9258201 +0.j          0.9258201 -0.j        ]]\n"
     ]
    }
   ],
   "source": [
    "#Matrice A\n",
    "A = np.array([[1,-1], [6,4]])\n",
    "\n",
    "#Vector B\n",
    "b = np.array([1, 3])\n",
    "\n",
    "#Finding eigen value and vector\n",
    "u, v = np.linalg.eig(A)\n",
    "\n",
    "print('eigen value:\\n',u)\n",
    "print('\\neigen vector:\\n',v)"
   ]
  },
  {
   "cell_type": "markdown",
   "metadata": {},
   "source": [
    "Matrice v above composed by 2 eigen vectors, hence we could check the equation: A*(eigen vector) = eigen value * eigen vector\n",
    "\n",
    "we will use the last element from eigen value array and eigen vector array"
   ]
  },
  {
   "cell_type": "code",
   "execution_count": 13,
   "metadata": {},
   "outputs": [
    {
     "name": "stdout",
     "output_type": "stream",
     "text": [
      "A dot b:\n",
      " [-2 18]\n",
      "\n",
      "matrice A * eigen vector 1:\n",
      " [-1.15727512-0.29880715j  2.31455025-1.79284291j]\n",
      "\n",
      "matrice A * eigen vector 2:\n",
      " [-1.15727512-0.29880715j  2.31455025-1.79284291j]\n"
     ]
    }
   ],
   "source": [
    "#w and x eigen vectors from column 1 and 2\n",
    "w = v[:,1]\n",
    "x = v[:,0]\n",
    "\n",
    "i = np.dot(A, b)\n",
    "j = np.dot(A,w)\n",
    "\n",
    "print('A dot b:\\n',i)\n",
    "print('\\nmatrice A * eigen vector 1:\\n',j)\n",
    "print('\\nmatrice A * eigen vector 2:\\n',np.dot(A,w))\n",
    "\n"
   ]
  },
  {
   "cell_type": "markdown",
   "metadata": {},
   "source": [
    "karena hasil i dan j tidak sama, maka vector b bukan eigen vector dari matriks A\n",
    "\n",
    "dan eigen value yang didapatkan adalah : 2.5+1.93649167j dan 2.5-1.93649167j"
   ]
  }
 ],
 "metadata": {
  "kernelspec": {
   "display_name": "Python 3.11.0 64-bit",
   "language": "python",
   "name": "python3"
  },
  "language_info": {
   "codemirror_mode": {
    "name": "ipython",
    "version": 3
   },
   "file_extension": ".py",
   "mimetype": "text/x-python",
   "name": "python",
   "nbconvert_exporter": "python",
   "pygments_lexer": "ipython3",
   "version": "3.11.0"
  },
  "orig_nbformat": 4,
  "vscode": {
   "interpreter": {
    "hash": "318f2c383d48220c821fefd227250c35bb828f95042f5889a5ad1704b1baf79c"
   }
  }
 },
 "nbformat": 4,
 "nbformat_minor": 2
}
