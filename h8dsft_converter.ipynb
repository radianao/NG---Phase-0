{
 "cells": [
  {
   "cell_type": "markdown",
   "metadata": {},
   "source": [
    "Non Graded Challenge 3 Day 3"
   ]
  },
  {
   "cell_type": "markdown",
   "metadata": {},
   "source": [
    "Konversi Suhu"
   ]
  },
  {
   "cell_type": "code",
   "execution_count": 77,
   "metadata": {},
   "outputs": [],
   "source": [
    "#Memanggil input dari user\n",
    "masuk = input(\"Masukkan nilai suhu dengan parameter suhu yang ingin dikonversikan (45K, 45C, 45F, 45R)\")\n",
    "\n",
    "#memisahkan antara nilai dengan satuan suhu yang diinput user\n",
    "#sekaligus deklarasi variabel global untuk dipassing by value ke fungsi-fungsi\n",
    "nilai   = float(masuk[:-1]) #float agar dapat menerima input suhu dlm desimal\n",
    "satuan  = masuk[-1]\n"
   ]
  },
  {
   "cell_type": "markdown",
   "metadata": {},
   "source": [
    "Konversi suhu dilakukan dengan mengubah setiap input ke dalam celcius agar tidak banyak source code fungsi lebih tidy"
   ]
  },
  {
   "cell_type": "code",
   "execution_count": 78,
   "metadata": {},
   "outputs": [],
   "source": [
    "#konversi input ke dalam celcius\n",
    "def konversi (nilai, satuan):\n",
    "    #hasil_sementara digunakan untuk menyimpan hasil dalam celcius\n",
    "    #par_i digunakan untuk menyimpan satuan sementara\n",
    "    if satuan == \"C\":\n",
    "        hasil_sementara = nilai\n",
    "    \n",
    "    elif satuan == \"K\":\n",
    "        hasil_sementara = nilai - 273.15\n",
    "    \n",
    "    elif satuan == \"F\":\n",
    "        hasil_sementara = (nilai - 32)*5/9\n",
    "    \n",
    "    elif satuan == \"R\":\n",
    "        hasil_sementara = (nilai/0.8)\n",
    "        \n",
    "    par_i = \"C\""
   ]
  },
  {
   "cell_type": "markdown",
   "metadata": {},
   "source": [
    "Nilai Celcius kemudian dikonversikan ke masing-masing satuan suhu dalam fungsi nya masing-masing"
   ]
  },
  {
   "cell_type": "code",
   "execution_count": 79,
   "metadata": {},
   "outputs": [],
   "source": [
    "\n",
    "#Konversi ke setiap satuan suhu\n",
    "#Ke Celcius\n",
    "def keC(hasil_sementara, par_i):\n",
    "    hasil_akhir = hasil_sementara\n",
    "    par_o = \"Celcius\"\n",
    "    print(\"Nilai dalam celcius adalah\", hasil_akhir, par_o)\n",
    "\n",
    "#Ke Kelvin\n",
    "def keK(hasil_sementara, par_i):\n",
    "    hasil_akhir = hasil_sementara + 273.15\n",
    "    par_o = \"Kelvin\"\n",
    "    print(\"Nilai dalam Kelvin adalah\", hasil_akhir, par_o)\n",
    "\n",
    "#Ke Farenheit\n",
    "def keF(hasil_sementara, par_i):\n",
    "    hasil_akhir = 9/5 * hasil_sementara + 32\n",
    "    par_o = \"Farenheit\"\n",
    "    print(\"Nilai dalam Farenheit adalah\", hasil_akhir, par_o)\n",
    "\n",
    "#Ke Reamur\n",
    "def keR(hasil_sementara, par_i):\n",
    "    hasil_akhir = 4/5 * hasil_sementara\n",
    "    par_o = \"Reamur\"\n",
    "    print(\"Nilai dalam Reamur adalah\", hasil_akhir, par_o)\n",
    "\n"
   ]
  },
  {
   "cell_type": "code",
   "execution_count": 80,
   "metadata": {},
   "outputs": [
    {
     "name": "stdout",
     "output_type": "stream",
     "text": [
      "Input invalid\n"
     ]
    }
   ],
   "source": [
    "#list dan looping digunakan untuk melihat bilamana input valid atau tidak\n",
    "list = [\"K\", \"C\", \"F\", \"R\"]\n",
    "\n",
    "#fungsi cek input\n",
    "def test(list, satuan):\n",
    "    for x in list:\n",
    "        if satuan == x:\n",
    "            print(\"Input user adalah\", nilai, satuan)\n",
    "            konversi(nilai, satuan)\n",
    "            keC(nilai, satuan)\n",
    "            keK(nilai, satuan)\n",
    "            keF(nilai, satuan)\n",
    "            keR(nilai, satuan)\n",
    "            break\n",
    "        \n",
    "        else:\n",
    "            #keluar dari loop dan print bila input user tidak sesuai\n",
    "            print(\"Input invalid\")\n",
    "            break\n",
    "\n",
    "test(list, satuan)\n",
    "\n",
    "            \n",
    "            "
   ]
  }
 ],
 "metadata": {
  "kernelspec": {
   "display_name": "Python 3.11.0 64-bit",
   "language": "python",
   "name": "python3"
  },
  "language_info": {
   "codemirror_mode": {
    "name": "ipython",
    "version": 3
   },
   "file_extension": ".py",
   "mimetype": "text/x-python",
   "name": "python",
   "nbconvert_exporter": "python",
   "pygments_lexer": "ipython3",
   "version": "3.11.0"
  },
  "orig_nbformat": 4,
  "vscode": {
   "interpreter": {
    "hash": "318f2c383d48220c821fefd227250c35bb828f95042f5889a5ad1704b1baf79c"
   }
  }
 },
 "nbformat": 4,
 "nbformat_minor": 2
}
