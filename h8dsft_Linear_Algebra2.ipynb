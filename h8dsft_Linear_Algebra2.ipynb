{
 "cells": [
  {
   "cell_type": "markdown",
   "metadata": {},
   "source": [
    "## Non Graded Challenge 5"
   ]
  },
  {
   "cell_type": "code",
   "execution_count": 1,
   "metadata": {},
   "outputs": [],
   "source": [
    "#import lib\n",
    "import numpy as np"
   ]
  },
  {
   "cell_type": "markdown",
   "metadata": {},
   "source": [
    "1. Membuat Tensor"
   ]
  },
  {
   "cell_type": "code",
   "execution_count": 6,
   "metadata": {},
   "outputs": [
    {
     "name": "stdout",
     "output_type": "stream",
     "text": [
      "[[[23 50]\n",
      "  [ 7 12]]\n",
      "\n",
      " [[57 67]\n",
      "  [99 43]]\n",
      "\n",
      " [[75 21]\n",
      "  [57 12]]\n",
      "\n",
      " [[87 26]\n",
      "  [18 84]]]\n",
      "(4, 2, 2)\n"
     ]
    }
   ],
   "source": [
    "tensor = np.array([\n",
    "    [[23,50],[7,12]],\n",
    "    [[57,67],[99,43]],\n",
    "    [[75,21],[57,12]],\n",
    "    [[87,26],[18,84]]\n",
    "])\n",
    "\n",
    "print(tensor)\n",
    "print(tensor.shape)"
   ]
  },
  {
   "cell_type": "markdown",
   "metadata": {},
   "source": [
    "2. Melakukan perkalian terhadap matriks A dan B"
   ]
  },
  {
   "cell_type": "code",
   "execution_count": 13,
   "metadata": {},
   "outputs": [
    {
     "name": "stdout",
     "output_type": "stream",
     "text": [
      "matriks A adalah [[ 23  50  19]\n",
      " [  7  12 109]\n",
      " [ 57  67  98]]\n",
      "\n",
      "matriks B adalah [17 22 19]\n",
      "[17 22 19]\n",
      "\n",
      "Hasil perkalian matriks A dengan matriks B adalah [1852 2454 4305]\n"
     ]
    }
   ],
   "source": [
    "A = np.array([[23,50,19],[7,12,109],[57,67,98]])\n",
    "B = np.array([17,22,19])\n",
    "print('matriks A adalah',A)\n",
    "print('\\nmatriks B adalah', B)\n",
    "\n",
    "print(B)\n",
    "#Perkalian dengan matriks A\n",
    "print('\\nHasil perkalian matriks A dengan matriks B adalah', A@B)"
   ]
  },
  {
   "cell_type": "markdown",
   "metadata": {},
   "source": [
    "3. Melakukan transpose, hitung determinan, dan inverse matriks A"
   ]
  },
  {
   "cell_type": "code",
   "execution_count": 20,
   "metadata": {},
   "outputs": [
    {
     "name": "stdout",
     "output_type": "stream",
     "text": [
      "transpose matriks A adalah\n",
      " [[ 23   7  57]\n",
      " [ 50  12  67]\n",
      " [ 19 109  98]]\n",
      "\n",
      "determinan matriks A adalah 131344.0000000002\n",
      "\n",
      "inverse matriks A adalah\n",
      " [[-0.0466485  -0.02761451  0.03975819]\n",
      " [ 0.04208034  0.00891552 -0.01807467]\n",
      " [-0.00163692  0.0099662  -0.00056341]]\n"
     ]
    }
   ],
   "source": [
    "#Transpose\n",
    "print('transpose matriks A adalah\\n',A.transpose())\n",
    "\n",
    "#determinan\n",
    "print('\\ndeterminan matriks A adalah', np.linalg.det(A))\n",
    "\n",
    "#inverse matriks\n",
    "print('\\ninverse matriks A adalah\\n',np.linalg.inv(A))"
   ]
  }
 ],
 "metadata": {
  "kernelspec": {
   "display_name": "Python 3.11.0 64-bit",
   "language": "python",
   "name": "python3"
  },
  "language_info": {
   "codemirror_mode": {
    "name": "ipython",
    "version": 3
   },
   "file_extension": ".py",
   "mimetype": "text/x-python",
   "name": "python",
   "nbconvert_exporter": "python",
   "pygments_lexer": "ipython3",
   "version": "3.11.0"
  },
  "orig_nbformat": 4,
  "vscode": {
   "interpreter": {
    "hash": "318f2c383d48220c821fefd227250c35bb828f95042f5889a5ad1704b1baf79c"
   }
  }
 },
 "nbformat": 4,
 "nbformat_minor": 2
}
