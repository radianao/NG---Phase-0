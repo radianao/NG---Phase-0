{
 "cells": [
  {
   "cell_type": "code",
   "execution_count": 2,
   "metadata": {},
   "outputs": [],
   "source": [
    "import random\n",
    "%matplotlib inline"
   ]
  },
  {
   "cell_type": "markdown",
   "metadata": {},
   "source": [
    "## Problem"
   ]
  },
  {
   "cell_type": "markdown",
   "metadata": {},
   "source": [
    "Buatlah sebuah kode untuk mensimulasikan melempar koin sebanyak 50.000 kali dengan assign value random berupa 0 dan 1 untuk kepala atau ekor. Setiap kali koin dilempar, peluang untuk mendapatkan kepala atau ekor adalah 50%"
   ]
  },
  {
   "cell_type": "code",
   "execution_count": 4,
   "metadata": {},
   "outputs": [],
   "source": [
    "#Membuat list untuk merepresentasikan koin yang dilempar\n",
    "koin_kepala_ekor = [0,0]\n"
   ]
  },
  {
   "cell_type": "markdown",
   "metadata": {},
   "source": [
    "Elemen pertama untuk kepala dan kedua untuk ekor. Nilai 0 dalam elemen adalah jumlah munculnya elemen tersebut\n"
   ]
  },
  {
   "cell_type": "code",
   "execution_count": 6,
   "metadata": {},
   "outputs": [
    {
     "name": "stdout",
     "output_type": "stream",
     "text": [
      "Hasil percobaan lempar koin [kepala, ekor] adalah sebagai berikut: [50101, 49899]\n"
     ]
    }
   ],
   "source": [
    "#Loop percobaan lemparan koin yang diinginkan sebanyak 50000x\n",
    "percobaan = 50000\n",
    "lemparan = 0\n",
    "#lemparan = 0 artinya percobaan belum dimulai\n",
    "\n",
    "#syntax loop\n",
    "while lemparan < percobaan:\n",
    "    lemparan += 1\n",
    "    #variabel hasil lempar,nilai 0 dan 1 merepresentasikan kepala dan ekor koin \n",
    "    hasil_lempar = random.randint(0,1)\n",
    "\n",
    "    #hasil lempar menambahkan elemen dalam list bergantung nilai representasi nya\n",
    "    koin_kepala_ekor[hasil_lempar] += 1\n",
    "\n",
    "print('Hasil percobaan lempar koin [kepala, ekor] adalah sebagai berikut:',koin_kepala_ekor)\n"
   ]
  }
 ],
 "metadata": {
  "kernelspec": {
   "display_name": "Python 3.11.0 64-bit",
   "language": "python",
   "name": "python3"
  },
  "language_info": {
   "codemirror_mode": {
    "name": "ipython",
    "version": 3
   },
   "file_extension": ".py",
   "mimetype": "text/x-python",
   "name": "python",
   "nbconvert_exporter": "python",
   "pygments_lexer": "ipython3",
   "version": "3.11.0"
  },
  "orig_nbformat": 4,
  "vscode": {
   "interpreter": {
    "hash": "318f2c383d48220c821fefd227250c35bb828f95042f5889a5ad1704b1baf79c"
   }
  }
 },
 "nbformat": 4,
 "nbformat_minor": 2
}
