{
  "cells": [
    {
      "cell_type": "markdown",
      "metadata": {
        "id": "q9lOjL1Mso9u"
      },
      "source": [
        "# Soal latihan untuk persiapan Live Code 1\n",
        "\n",
        "Kisi-kisi apa saja yang akan keluar:\n",
        "- Load data pandas menggunakan pd.read_csv, pd.read_excel.\n",
        "- Pembuatan dan penggunaan fungsi \n",
        "- Pandas Query/Filtering\n",
        "- For loop dan conditional if yang diterapkan pada pandas\n",
        "- Akses row dataframe pandas menggunakan loc/iloc\n",
        "- Akses kolom dataframe pandas\n",
        "- Penggunaan method di dataframe/series pandas terutama method agregat (rata-rata, min, max, count, std, dll)"
      ]
    },
    {
      "cell_type": "code",
      "execution_count": 1,
      "metadata": {
        "colab": {
          "base_uri": "https://localhost:8080/",
          "height": 676
        },
        "id": "tSITOEnxo1aN",
        "outputId": "ff26eada-7699-46d5-892c-7f0e09033fd3"
      },
      "outputs": [
        {
          "data": {
            "text/html": [
              "<div>\n",
              "<style scoped>\n",
              "    .dataframe tbody tr th:only-of-type {\n",
              "        vertical-align: middle;\n",
              "    }\n",
              "\n",
              "    .dataframe tbody tr th {\n",
              "        vertical-align: top;\n",
              "    }\n",
              "\n",
              "    .dataframe thead th {\n",
              "        text-align: right;\n",
              "    }\n",
              "</style>\n",
              "<table border=\"1\" class=\"dataframe\">\n",
              "  <thead>\n",
              "    <tr style=\"text-align: right;\">\n",
              "      <th></th>\n",
              "      <th>sisi1</th>\n",
              "      <th>sisi2</th>\n",
              "    </tr>\n",
              "  </thead>\n",
              "  <tbody>\n",
              "    <tr>\n",
              "      <th>0</th>\n",
              "      <td>22</td>\n",
              "      <td>10</td>\n",
              "    </tr>\n",
              "    <tr>\n",
              "      <th>1</th>\n",
              "      <td>15</td>\n",
              "      <td>5</td>\n",
              "    </tr>\n",
              "    <tr>\n",
              "      <th>2</th>\n",
              "      <td>9</td>\n",
              "      <td>5</td>\n",
              "    </tr>\n",
              "    <tr>\n",
              "      <th>3</th>\n",
              "      <td>5</td>\n",
              "      <td>13</td>\n",
              "    </tr>\n",
              "    <tr>\n",
              "      <th>4</th>\n",
              "      <td>17</td>\n",
              "      <td>6</td>\n",
              "    </tr>\n",
              "    <tr>\n",
              "      <th>5</th>\n",
              "      <td>22</td>\n",
              "      <td>12</td>\n",
              "    </tr>\n",
              "    <tr>\n",
              "      <th>6</th>\n",
              "      <td>16</td>\n",
              "      <td>8</td>\n",
              "    </tr>\n",
              "    <tr>\n",
              "      <th>7</th>\n",
              "      <td>6</td>\n",
              "      <td>5</td>\n",
              "    </tr>\n",
              "    <tr>\n",
              "      <th>8</th>\n",
              "      <td>6</td>\n",
              "      <td>16</td>\n",
              "    </tr>\n",
              "    <tr>\n",
              "      <th>9</th>\n",
              "      <td>20</td>\n",
              "      <td>17</td>\n",
              "    </tr>\n",
              "    <tr>\n",
              "      <th>10</th>\n",
              "      <td>8</td>\n",
              "      <td>5</td>\n",
              "    </tr>\n",
              "    <tr>\n",
              "      <th>11</th>\n",
              "      <td>30</td>\n",
              "      <td>22</td>\n",
              "    </tr>\n",
              "    <tr>\n",
              "      <th>12</th>\n",
              "      <td>9</td>\n",
              "      <td>12</td>\n",
              "    </tr>\n",
              "    <tr>\n",
              "      <th>13</th>\n",
              "      <td>15</td>\n",
              "      <td>10</td>\n",
              "    </tr>\n",
              "    <tr>\n",
              "      <th>14</th>\n",
              "      <td>11</td>\n",
              "      <td>15</td>\n",
              "    </tr>\n",
              "    <tr>\n",
              "      <th>15</th>\n",
              "      <td>17</td>\n",
              "      <td>3</td>\n",
              "    </tr>\n",
              "    <tr>\n",
              "      <th>16</th>\n",
              "      <td>5</td>\n",
              "      <td>6</td>\n",
              "    </tr>\n",
              "    <tr>\n",
              "      <th>17</th>\n",
              "      <td>16</td>\n",
              "      <td>13</td>\n",
              "    </tr>\n",
              "    <tr>\n",
              "      <th>18</th>\n",
              "      <td>9</td>\n",
              "      <td>15</td>\n",
              "    </tr>\n",
              "    <tr>\n",
              "      <th>19</th>\n",
              "      <td>26</td>\n",
              "      <td>5</td>\n",
              "    </tr>\n",
              "  </tbody>\n",
              "</table>\n",
              "</div>"
            ],
            "text/plain": [
              "    sisi1  sisi2\n",
              "0      22     10\n",
              "1      15      5\n",
              "2       9      5\n",
              "3       5     13\n",
              "4      17      6\n",
              "5      22     12\n",
              "6      16      8\n",
              "7       6      5\n",
              "8       6     16\n",
              "9      20     17\n",
              "10      8      5\n",
              "11     30     22\n",
              "12      9     12\n",
              "13     15     10\n",
              "14     11     15\n",
              "15     17      3\n",
              "16      5      6\n",
              "17     16     13\n",
              "18      9     15\n",
              "19     26      5"
            ]
          },
          "execution_count": 1,
          "metadata": {},
          "output_type": "execute_result"
        }
      ],
      "source": [
        "import pandas as pd\n",
        "\n",
        "sisi_1 = [22, 15, 9, 5, 17, 22, 16, 6, 6, 20, 8, 30, 9, 15, 11, 17, 5, 16, 9, 26]\n",
        "sisi_2 = [10, 5, 5, 13, 6, 12, 8, 5, 16, 17, 5, 22, 12, 10, 15, 3, 6, 13, 15, 5]\n",
        "\n",
        "df = pd.DataFrame({'sisi1': sisi_1, 'sisi2': sisi_2})\n",
        "df"
      ]
    },
    {
      "cell_type": "markdown",
      "metadata": {
        "id": "Z0Z8LCVRXMkg"
      },
      "source": [
        "1. Buatlah dua fungsi untuk menghitung luas persegi dan jajargenjang"
      ]
    },
    {
      "cell_type": "code",
      "execution_count": 2,
      "metadata": {
        "colab": {
          "base_uri": "https://localhost:8080/"
        },
        "id": "M_GV53OD-JEO",
        "outputId": "fd1e5526-1588-434e-c9ed-a9481c429cb2"
      },
      "outputs": [
        {
          "name": "stdout",
          "output_type": "stream",
          "text": [
            "Array luas adalah\n",
            " <IntegerArray>\n",
            "[220,  75,  45,  65, 102, 264, 128,  30,  96, 340,  40, 660, 108, 150, 165,\n",
            "  51,  30, 208, 135, 130]\n",
            "Length: 20, dtype: Int64\n"
          ]
        }
      ],
      "source": [
        "#Luas persegi\n",
        "def fungsi_persegi(a, b):\n",
        "  return a*b\n",
        "\n",
        "#Luas jajargenjang\n",
        "def fungsi_jajar(a, b):\n",
        "  return (2*a)*b/2\n",
        "\n",
        "luas = pd.array([0]*20)\n",
        "\n",
        "\n",
        "for i in df.index:\n",
        "  if df['sisi1'][i]>10:\n",
        "    luas[i] = fungsi_persegi(df['sisi1'][i], df['sisi2'][i])\n",
        "  \n",
        "  elif df['sisi1'][i]<10:\n",
        "    luas[i] = fungsi_jajar(df['sisi1'][i], df['sisi2'][i])\n",
        "\n",
        "\n",
        "#Check array luas persegi dan luas jajargennnnjiiiieee\n",
        "print('Array luas adalah\\n',luas)"
      ]
    },
    {
      "cell_type": "code",
      "execution_count": 3,
      "metadata": {
        "colab": {
          "base_uri": "https://localhost:8080/"
        },
        "id": "tFk2rplg3xJK",
        "outputId": "de2771a9-53ed-47e1-abb6-f8c45d39fe29"
      },
      "outputs": [
        {
          "name": "stdout",
          "output_type": "stream",
          "text": [
            "    sisi1  sisi2  luas bangun\n",
            "0      22     10          220\n",
            "1      15      5           75\n",
            "2       9      5           45\n",
            "3       5     13           65\n",
            "4      17      6          102\n",
            "5      22     12          264\n",
            "6      16      8          128\n",
            "7       6      5           30\n",
            "8       6     16           96\n",
            "9      20     17          340\n",
            "10      8      5           40\n",
            "11     30     22          660\n",
            "12      9     12          108\n",
            "13     15     10          150\n",
            "14     11     15          165\n",
            "15     17      3           51\n",
            "16      5      6           30\n",
            "17     16     13          208\n",
            "18      9     15          135\n",
            "19     26      5          130\n"
          ]
        }
      ],
      "source": [
        "#Input array luas ke data frame\n",
        "df['luas bangun'] = luas\n",
        "\n",
        "#display data frame dengan kolom luas\n",
        "print(df)"
      ]
    },
    {
      "cell_type": "markdown",
      "metadata": {
        "id": "qSoPnMpeo6Vk"
      },
      "source": [
        "2. Dengan data berikut, buatlah kolom baru yang bernama `luas` yang menyimpan hasil perhitungan luas persegi dan jajargenjang, dimana untuk kolom sisi1 yang nilainya lebih dari 10 akan dihitung luas persegi, dan kurang dari 10 dihitung jajargenjang. **(Hint: Gunakan for loop dan if statement untuk mengerjakan nomor 2, kamu bisa menggunakan list untuk menyimpan perhitungan sementara, setelahnya dapat dimasukkan ke kolom luas)**."
      ]
    },
    {
      "cell_type": "markdown",
      "metadata": {
        "id": "TyDEajOjqY6S"
      },
      "source": [
        "3. Hitung standar deviasi (.std) kolom luas dimana sisi1 lebih dari 10 atau sisi 2 ganjil"
      ]
    },
    {
      "cell_type": "code",
      "execution_count": 9,
      "metadata": {
        "colab": {
          "base_uri": "https://localhost:8080/"
        },
        "id": "_QGxle0IB9F7",
        "outputId": "fdb5f3ab-7f22-4c97-879c-d67c5094ff20"
      },
      "outputs": [
        {
          "name": "stdout",
          "output_type": "stream",
          "text": [
            "data telah terfiltrasi (17, 3) \n",
            "\n",
            "Nilai standar deviasi luas bangun, sisi1 dan sisi2 berdasarkan filter adalah\n"
          ]
        },
        {
          "data": {
            "text/plain": [
              "sisi1            7.036669\n",
              "sisi2            5.355728\n",
              "luas bangun    153.573775\n",
              "dtype: float64"
            ]
          },
          "execution_count": 9,
          "metadata": {},
          "output_type": "execute_result"
        }
      ],
      "source": [
        "#untuk mendapatkan sisi1 > 10 atau sisi2 ganjil maka kita memerlukan query dari data frame dengan ketentuan yg diberikan\n",
        "filter = df[(df['sisi1'] > 10) | (df['sisi2']%2 != 0)]\n",
        "\n",
        "#checking filtered data\n",
        "print('data telah terfiltrasi', filter.shape,'\\n')\n",
        "print('Nilai standar deviasi luas bangun, sisi1 dan sisi2 berdasarkan filter adalah')\n",
        "filter.std()"
      ]
    }
  ],
  "metadata": {
    "colab": {
      "provenance": []
    },
    "kernelspec": {
      "display_name": "Python 3.11.0 64-bit",
      "language": "python",
      "name": "python3"
    },
    "language_info": {
      "codemirror_mode": {
        "name": "ipython",
        "version": 3
      },
      "file_extension": ".py",
      "mimetype": "text/x-python",
      "name": "python",
      "nbconvert_exporter": "python",
      "pygments_lexer": "ipython3",
      "version": "3.11.0"
    },
    "vscode": {
      "interpreter": {
        "hash": "318f2c383d48220c821fefd227250c35bb828f95042f5889a5ad1704b1baf79c"
      }
    }
  },
  "nbformat": 4,
  "nbformat_minor": 0
}
